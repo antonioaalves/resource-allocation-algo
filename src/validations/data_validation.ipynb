{
 "cells": [
  {
   "cell_type": "markdown",
   "metadata": {},
   "source": [
    "# Data validation for CSV's\n",
    "\n",
    "### Import dependencies"
   ]
  },
  {
   "cell_type": "code",
   "execution_count": 3,
   "metadata": {},
   "outputs": [],
   "source": [
    "import pandas as pd"
   ]
  },
  {
   "cell_type": "markdown",
   "metadata": {},
   "source": [
    "### Data loading from files"
   ]
  },
  {
   "cell_type": "code",
   "execution_count": 2,
   "metadata": {},
   "outputs": [
    {
     "ename": "ModuleNotFoundError",
     "evalue": "No module named 'src'",
     "output_type": "error",
     "traceback": [
      "\u001b[31m---------------------------------------------------------------------------\u001b[39m",
      "\u001b[31mModuleNotFoundError\u001b[39m                       Traceback (most recent call last)",
      "\u001b[36mCell\u001b[39m\u001b[36m \u001b[39m\u001b[32mIn[2]\u001b[39m\u001b[32m, line 2\u001b[39m\n\u001b[32m      1\u001b[39m \u001b[38;5;66;03m# Get config file variables for dummy data paths\u001b[39;00m\n\u001b[32m----> \u001b[39m\u001b[32m2\u001b[39m \u001b[38;5;28;01mfrom\u001b[39;00m\u001b[38;5;250m \u001b[39m\u001b[34;01msrc\u001b[39;00m\u001b[34;01m.\u001b[39;00m\u001b[34;01mconfig\u001b[39;00m\u001b[38;5;250m \u001b[39m\u001b[38;5;28;01mimport\u001b[39;00m CONFIG\n\u001b[32m      4\u001b[39m data_paths = CONFIG.get(\u001b[33m'\u001b[39m\u001b[33mdummy_data_filepaths\u001b[39m\u001b[33m'\u001b[39m)\n\u001b[32m      6\u001b[39m contract_types_table = pd.read_csv(data_paths.get(\u001b[33m'\u001b[39m\u001b[33mcontract_types\u001b[39m\u001b[33m'\u001b[39m), sep=\u001b[33m'\u001b[39m\u001b[33m;\u001b[39m\u001b[33m'\u001b[39m, decimal=\u001b[33m'\u001b[39m\u001b[33m,\u001b[39m\u001b[33m'\u001b[39m)\n",
      "\u001b[31mModuleNotFoundError\u001b[39m: No module named 'src'"
     ]
    }
   ],
   "source": [
    "# Get config file variables for dummy data paths\n",
    "from src.config import CONFIG\n",
    "\n",
    "data_paths = CONFIG.get('dummy_data_filepaths')\n",
    "\n",
    "contract_types_table = pd.read_csv(data_paths.get('contract_types'), sep=';', decimal=',')\n",
    "demands_table = pd.read_csv(data_paths.get('demands'), sep=';', decimal=',')\n",
    "employees_table = pd.read_csv(data_paths.get('employees'), sep=';', decimal=',')\n",
    "employee_hours_table = pd.read_csv(data_paths.get('employee_hours'), sep=';', decimal=',')\n",
    "employee_production_lines_table = pd.read_csv(data_paths.get('employee_production_lines'), sep=';', decimal=',')\n",
    "employee_shift_assignments_table = pd.read_csv(data_paths.get('employee_shift_assignments'), sep=';', decimal=',')\n",
    "groups_table = pd.read_csv(data_paths.get('groups'), sep=';', decimal=',')\n",
    "line_types_table = pd.read_csv(data_paths.get('line_types'), sep=';', decimal=',')\n",
    "products_table = pd.read_csv(data_paths.get('products'), sep=';', decimal=',')\n",
    "production_lines_table = pd.read_csv(data_paths.get('production_lines'), sep=';', decimal=',')\n",
    "production_lines_stats_table = pd.read_csv(data_paths.get('production_lines_stats'), sep=';', decimal=',')\n",
    "product_production_line_assignments_table = pd.read_csv(data_paths.get('product_production_line_assignments'), sep=';', decimal=',')\n",
    "product_production_lines = pd.read_csv(data_paths.get('product_production_lines'), sep=';', decimal=',')\n",
    "sections_table = pd.read_csv(data_paths.get('sections'), sep=';', decimal=',')\n",
    "shifts_table = pd.read_csv(data_paths.get('shifts'), sep=';', decimal=',')\n",
    "shift_types_table = pd.read_csv(data_paths.get('shift_types'), sep=';', decimal=',')\n",
    "\n"
   ]
  }
 ],
 "metadata": {
  "kernelspec": {
   "display_name": ".venv",
   "language": "python",
   "name": "python3"
  },
  "language_info": {
   "codemirror_mode": {
    "name": "ipython",
    "version": 3
   },
   "file_extension": ".py",
   "mimetype": "text/x-python",
   "name": "python",
   "nbconvert_exporter": "python",
   "pygments_lexer": "ipython3",
   "version": "3.13.1"
  }
 },
 "nbformat": 4,
 "nbformat_minor": 2
}
